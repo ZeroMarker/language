{
 "cells": [
  {
   "cell_type": "markdown",
   "metadata": {},
   "source": [
    "CL: 代表古典正字法（Classical orthography）。这通常指的是传统或历史上的书写风格，可能包含一些古老的字形或变体。\n",
    "\n",
    "SC, TC, J, K, HC: 这些缩写代表区域性正字法（Regional orthography），遵循Source Han Sans的命名规则。具体来说：\n",
    "\n",
    "SC: 简体中文（Simplified Chinese）正字法。\n",
    "TC: 繁体中文（Traditional Chinese）正字法。\n",
    "J: 日文（Japanese）正字法。\n",
    "K: 韩文（Korean）正字法。\n",
    "HC: 香港中文（Hong Kong Chinese）正字法。"
   ]
  }
 ],
 "metadata": {
  "language_info": {
   "name": "python"
  }
 },
 "nbformat": 4,
 "nbformat_minor": 2
}
