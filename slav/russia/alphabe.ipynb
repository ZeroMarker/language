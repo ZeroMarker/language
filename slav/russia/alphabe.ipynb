{
 "cells": [
  {
   "cell_type": "markdown",
   "metadata": {},
   "source": [
    "[Russian Alphabet](https://www.russianforeveryone.com/RufeA/Lessons/Introduction/Alphabet/Alphabet.htm)"
   ]
  },
  {
   "cell_type": "markdown",
   "metadata": {},
   "source": [
    "[最令人困惑的俄语字母: 软音符号和硬音符号 （一）](https://www.bilibili.com/video/BV1TZ4y1v7SH/)"
   ]
  }
 ],
 "metadata": {
  "language_info": {
   "name": "python"
  }
 },
 "nbformat": 4,
 "nbformat_minor": 2
}
