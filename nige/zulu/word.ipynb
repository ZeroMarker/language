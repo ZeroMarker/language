{
 "cells": [
  {
   "cell_type": "markdown",
   "metadata": {},
   "source": [
    "Unjani mama?\n",
    "\n",
    "Sawubona, unjani?\n",
    "\n",
    "Yebo, ngiyaphila.\n",
    "\n",
    "Sala kahle, mkhulu.\n",
    "\n",
    "Hamba kahle, nkosazana.\n",
    "\n",
    "Ngithanda itiye.\n",
    "\n",
    "Ngithanda i-pasta.\n",
    "\n",
    "Yebo, uphuza ikhofi.\n",
    "\n",
    "Uthanda itiye!\n",
    "\n",
    "Itiye noma ikhofi?\n",
    "\n",
    "Isinkwa noma i-pizza?\n",
    "\n"
   ]
  }
 ],
 "metadata": {
  "language_info": {
   "name": "python"
  }
 },
 "nbformat": 4,
 "nbformat_minor": 2
}
