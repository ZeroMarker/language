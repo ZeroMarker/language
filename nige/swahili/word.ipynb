{
 "cells": [
  {
   "cell_type": "markdown",
   "metadata": {},
   "source": [
    "Mimi ni Mchina.\n",
    "\n",
    "Wewe ni Mkenya.\n",
    "\n",
    "Yeye ni Mchina.\n",
    "\n",
    "Yeye ni Mholanzi.\n",
    "\n",
    "Wewe ni Mmarekani.\n",
    "\n",
    "Mimi ni Mtanzania.\n",
    "\n",
    "Sisi ni Wamarekani.\n",
    "\n",
    "Sisi ni Wakenya.\n",
    "\n",
    "Wao ni Wakenya.\n",
    "\n",
    "Ninyi ni Wakenya.\n",
    "\n",
    "Wewe ni nani?\n",
    "\n",
    "Jina lako ni Emilian.\n",
    "\n",
    "Jina langu ni Rehema.\n",
    "\n",
    "Jina lake ni Rehema.\n",
    "\n",
    "Rehema ni jina la Mkenya.\n",
    "\n",
    "Rehema si jina langu!\n"
   ]
  }
 ],
 "metadata": {
  "language_info": {
   "name": "python"
  }
 },
 "nbformat": 4,
 "nbformat_minor": 2
}
