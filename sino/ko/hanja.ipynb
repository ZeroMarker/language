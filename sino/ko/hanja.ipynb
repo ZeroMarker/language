{
 "cells": [
  {
   "cell_type": "markdown",
   "metadata": {},
   "source": [
    "训民正音 解例本 훈민정음（1433）\n",
    "\n",
    "韩文正字法统一案 한글 맞춤법 통일안（1933）\n",
    "\n",
    "韩文正字法 한글 맞춤법（1989）"
   ]
  }
 ],
 "metadata": {
  "language_info": {
   "name": "python"
  }
 },
 "nbformat": 4,
 "nbformat_minor": 2
}
