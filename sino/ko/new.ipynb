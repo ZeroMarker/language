{
 "cells": [
  {
   "cell_type": "markdown",
   "metadata": {},
   "source": [
    "하루는 24시간이에요\n",
    "\n",
    "괜찮아요, 저는 벌써 밥을 벅었어요.\n",
    "\n",
    "오늘 하루 뭐 했어요?\n",
    "\n",
    "벌써 음식을 시켰어요?\n",
    "\n",
    "그는 저녁으로 치킨을 먹고 맥부를 마셨어요.\n",
    "\n",
    "아니요, 저희는 아직 안 먹었어요.\n"
   ]
  }
 ],
 "metadata": {
  "language_info": {
   "name": "python"
  }
 },
 "nbformat": 4,
 "nbformat_minor": 2
}
