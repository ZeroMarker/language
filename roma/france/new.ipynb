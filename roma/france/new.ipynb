{
 "cells": [
  {
   "cell_type": "code",
   "execution_count": null,
   "metadata": {
    "vscode": {
     "languageId": "plaintext"
    }
   },
   "outputs": [],
   "source": [
    "C'est un magasin intéressant.\n",
    "\n",
    "Alice habite dans un immeuble près de la station de métro.\n",
    "Chaque matin, elle prend le train et elle va au travail.\n",
    "\n"
   ]
  }
 ],
 "metadata": {
  "language_info": {
   "name": "python"
  }
 },
 "nbformat": 4,
 "nbformat_minor": 2
}
