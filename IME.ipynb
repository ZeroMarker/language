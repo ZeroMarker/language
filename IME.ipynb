{
 "cells": [
  {
   "cell_type": "markdown",
   "metadata": {},
   "source": [
    "Alt + Shift, switch language"
   ]
  },
  {
   "cell_type": "markdown",
   "metadata": {},
   "source": [
    "# Gboard\n",
    "Ctrl + Space, switch 中/a\n",
    "\n",
    "Shift\n"
   ]
  },
  {
   "cell_type": "markdown",
   "metadata": {},
   "source": [
    "- 键盘\n",
    "    - US-International\n",
    "\n",
    "[Help with Microsoft Keyboards US-International](https://slcr.wsu.edu/help-pages/microsoft-keyboards-us-international/)\n",
    "\n",
    "[U.S. International Keyboard](https://www.muhlenberg.edu/academics/llc/onlineresources/windows/usinternationalkeyboard/)"
   ]
  },
  {
   "cell_type": "markdown",
   "metadata": {},
   "source": [
    "[The complete official IPA chart](https://www.youtube.com/watch?v=OGYGDQgeh2c)\n",
    "\n",
    "[IPA Chart](https://www.ipachart.com/)"
   ]
  },
  {
   "cell_type": "markdown",
   "metadata": {},
   "source": [
    "- 时间和语言\n",
    "    - 输入\n",
    "        - 键盘高级设置\n",
    "            - 输入语言热键\n"
   ]
  },
  {
   "cell_type": "markdown",
   "metadata": {},
   "source": [
    "```mermaid\n",
    "mindmap\n",
    "  root((Writing System))\n",
    "    Phonographic\n",
    "      Syllabary\n",
    "      Phonemic\n",
    "        Abjad\n",
    "        Vowel\n",
    "          Abugida\n",
    "          Alphabet\n",
    "    Morphographic\n",
    "      Logogram\n",
    "```"
   ]
  },
  {
   "cell_type": "markdown",
   "metadata": {},
   "source": [
    "ISO 8859-1，正式编号为ISO/IEC 8859-1:1998，又称Latin-1或“西欧语言”，是国际标准化组织内ISO/IEC 8859的第一个8位字符集。它以ASCII为基础，在空置的0xA0-0xFF的范围内，加入96个字母及符号，藉以供使用附加符号的拉丁字母语言使用。曾推出过 ISO 8859-1:1987 版。"
   ]
  }
 ],
 "metadata": {
  "language_info": {
   "name": "python"
  }
 },
 "nbformat": 4,
 "nbformat_minor": 2
}
